{
  "nbformat": 4,
  "nbformat_minor": 0,
  "metadata": {
    "colab": {
      "provenance": [],
      "authorship_tag": "ABX9TyNYPzueHaKyqZG1Fgcx/pBL",
      "include_colab_link": true
    },
    "kernelspec": {
      "name": "python3",
      "display_name": "Python 3"
    },
    "language_info": {
      "name": "python"
    }
  },
  "cells": [
    {
      "cell_type": "markdown",
      "metadata": {
        "id": "view-in-github",
        "colab_type": "text"
      },
      "source": [
        "<a href=\"https://colab.research.google.com/github/deguc/shannon/blob/main/LZW.ipynb\" target=\"_parent\"><img src=\"https://colab.research.google.com/assets/colab-badge.svg\" alt=\"Open In Colab\"/></a>"
      ]
    },
    {
      "cell_type": "code",
      "execution_count": 11,
      "metadata": {
        "colab": {
          "base_uri": "https://localhost:8080/"
        },
        "id": "tDMQeRZyW15i",
        "outputId": "2f37ef60-ba4a-4c94-85bc-172bd67dcc2a"
      },
      "outputs": [
        {
          "output_type": "stream",
          "name": "stdout",
          "text": [
            "[65, 66, 256, 258]\n",
            "ABABABA\n"
          ]
        }
      ],
      "source": [
        "def lzw_encode(data):\n",
        "\n",
        "  encoded=[]\n",
        "  dic={c:ord(c) for c in set(data)}\n",
        "  i=256\n",
        "  cur=\"\"\n",
        "\n",
        "  for c in data:\n",
        "\n",
        "    cur += c\n",
        "\n",
        "    if cur not in dic:\n",
        "      encoded.append(dic[cur[:-1]])\n",
        "      dic[cur] = i\n",
        "      i += 1\n",
        "      cur = c\n",
        "\n",
        "  if cur:\n",
        "    encoded.append(dic[cur])\n",
        "\n",
        "  return encoded\n",
        "\n",
        "def lzw_decode(encode):\n",
        "\n",
        "  i=256\n",
        "\n",
        "  dic={k:chr(k) for k in set(encode) if k<i}\n",
        "  cur=chr(encoded[0])\n",
        "  decoded=cur\n",
        "\n",
        "\n",
        "  for code in encoded[1:]:\n",
        "    if code in dic:\n",
        "      entry=dic[code]\n",
        "    else:\n",
        "      entry = cur + cur[0]\n",
        "\n",
        "    decoded += entry\n",
        "    dic[i] = cur + entry[0]\n",
        "    i += 1\n",
        "    cur = entry\n",
        "\n",
        "\n",
        "  return decoded\n",
        "\n",
        "\n",
        "data=\"ABABABA\"\n",
        "encoded=lzw_encode(data)\n",
        "print(encoded)\n",
        "decoded=lzw_decode(encoded)\n",
        "print(decoded)"
      ]
    }
  ]
}