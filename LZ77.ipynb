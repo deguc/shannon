{
  "nbformat": 4,
  "nbformat_minor": 0,
  "metadata": {
    "colab": {
      "provenance": [],
      "authorship_tag": "ABX9TyN9dLLEtJhpZKNr7c8EZlbZ",
      "include_colab_link": true
    },
    "kernelspec": {
      "name": "python3",
      "display_name": "Python 3"
    },
    "language_info": {
      "name": "python"
    }
  },
  "cells": [
    {
      "cell_type": "markdown",
      "metadata": {
        "id": "view-in-github",
        "colab_type": "text"
      },
      "source": [
        "<a href=\"https://colab.research.google.com/github/deguc/shannon/blob/main/LZ77.ipynb\" target=\"_parent\"><img src=\"https://colab.research.google.com/assets/colab-badge.svg\" alt=\"Open In Colab\"/></a>"
      ]
    },
    {
      "cell_type": "code",
      "execution_count": null,
      "metadata": {
        "colab": {
          "base_uri": "https://localhost:8080/"
        },
        "id": "c7NLSDt_QLQI",
        "outputId": "66e6238b-8d1a-493d-c2be-a73db7f09360"
      },
      "outputs": [
        {
          "output_type": "stream",
          "name": "stdout",
          "text": [
            "[(0, 0, 'a'), (1, 1, 'b'), (0, 0, 'c'), (3, 3, 'a'), (3, 2, '')]\n",
            "aabcabcabc\n"
          ]
        }
      ],
      "source": [
        "def lz77_encode(seq,size=6):\n",
        "  buffer=\"\"\n",
        "  result=[]\n",
        "\n",
        "  i=0;\n",
        "  while i<len(seq):\n",
        "\n",
        "    offset=0\n",
        "    length=0\n",
        "    char=\"\"\n",
        "\n",
        "    for j in range(1,size+1):\n",
        "      s=seq[i:i+j]\n",
        "      p=buffer.rfind(s)\n",
        "\n",
        "      if p != -1 and (i+j) <= len(seq):\n",
        "        offset=len(buffer)-p\n",
        "        length=j\n",
        "        char=seq[i+j] if (i+j)<len(seq) else \"\"\n",
        "      else:\n",
        "        break;\n",
        "\n",
        "    if length >0:\n",
        "      result.append((offset,length,char))\n",
        "      i += length+1\n",
        "    else:\n",
        "      result.append((0,0, seq[i]))\n",
        "      i += 1\n",
        "\n",
        "    buffer += seq[i-length-1:i]\n",
        "    if len(buffer) > size:\n",
        "      buffer=buffer[-size:]\n",
        "\n",
        "  return result\n",
        "\n",
        "\n",
        "\n",
        "def lz77_decode(encoded):\n",
        "\n",
        "  decoded=\"\"\n",
        "\n",
        "  for offset,length,char in encoded:\n",
        "\n",
        "    if offset > 0 and length >0:\n",
        "\n",
        "      start=len(decoded)-offset\n",
        "\n",
        "      for i in range(length):\n",
        "        decoded += decoded[start+i]\n",
        "\n",
        "    if char:\n",
        "       decoded += char\n",
        "\n",
        "  return decoded\n",
        "\n",
        "\n",
        "seq=\"aabcabcabc\"\n",
        "\n",
        "encoded=lz77_encode(seq)\n",
        "print(encoded)\n",
        "\n",
        "decoded=lz77_decode(encoded)\n",
        "print(decoded)"
      ]
    },
    {
      "cell_type": "code",
      "source": [
        "def lz77_encode(seq,size=6):\n",
        "  buffer=\"\"\n",
        "  result=[]\n",
        "\n",
        "  i=0;\n",
        "  while i<len(seq):\n",
        "\n",
        "    offset=0\n",
        "    length=0\n",
        "    char=seq[i]\n",
        "\n",
        "    l=len(buffer)\n",
        "\n",
        "    for j in range(1,l+1):\n",
        "\n",
        "      s=seq[i:i+j]\n",
        "      p=buffer.rfind(s)\n",
        "\n",
        "      if p != -1 and (i+j) <= len(seq):\n",
        "        offset=l-p\n",
        "        length=j\n",
        "        char=seq[i+j] if (i+j)<len(seq) else \"\"\n",
        "      else:\n",
        "        break;\n",
        "\n",
        "    result.append((offset,length,char))\n",
        "    i += length+1\n",
        "\n",
        "    buffer = seq[max(0,i-size):min(len(seq),i)]\n",
        "\n",
        "  return result\n",
        "\n",
        "\n",
        "\n",
        "def lz77_decode(encoded):\n",
        "\n",
        "  decoded=\"\"\n",
        "\n",
        "  for offset,length,char in encoded:\n",
        "\n",
        "    if offset > 0:\n",
        "\n",
        "      start=len(decoded)-offset\n",
        "      decoded += decoded[start:start+length]\n",
        "\n",
        "    if char:\n",
        "       decoded += char\n",
        "\n",
        "  return decoded\n",
        "\n",
        "\n",
        "seq=\"aabcabcabc\"\n",
        "\n",
        "encoded=lz77_encode(seq)\n",
        "print(encoded)\n",
        "\n",
        "decoded=lz77_decode(encoded)\n",
        "print(decoded)"
      ],
      "metadata": {
        "colab": {
          "base_uri": "https://localhost:8080/"
        },
        "id": "vibF29fsSuuQ",
        "outputId": "d4b80da0-19ed-4e2f-f1e6-b42ac3d00423"
      },
      "execution_count": null,
      "outputs": [
        {
          "output_type": "stream",
          "name": "stdout",
          "text": [
            "[(0, 0, 'a'), (1, 1, 'b'), (0, 0, 'c'), (3, 3, 'a'), (3, 2, '')]\n",
            "aabcabcabc\n"
          ]
        }
      ]
    }
  ]
}