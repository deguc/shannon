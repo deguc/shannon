{
  "nbformat": 4,
  "nbformat_minor": 0,
  "metadata": {
    "colab": {
      "provenance": [],
      "authorship_tag": "ABX9TyMPBh5i+o1Cl7cb+8VfViUp",
      "include_colab_link": true
    },
    "kernelspec": {
      "name": "python3",
      "display_name": "Python 3"
    },
    "language_info": {
      "name": "python"
    }
  },
  "cells": [
    {
      "cell_type": "markdown",
      "metadata": {
        "id": "view-in-github",
        "colab_type": "text"
      },
      "source": [
        "<a href=\"https://colab.research.google.com/github/deguc/shannon/blob/main/MarkovArithmetic.ipynb\" target=\"_parent\"><img src=\"https://colab.research.google.com/assets/colab-badge.svg\" alt=\"Open In Colab\"/></a>"
      ]
    },
    {
      "cell_type": "code",
      "execution_count": null,
      "metadata": {
        "id": "4EWXlsSNLmWe"
      },
      "outputs": [],
      "source": [
        "from collections import Counter\n",
        "\n",
        "def get_cdfs(probs):\n",
        "\n",
        "  cdfs={}\n",
        "\n",
        "  for state,prob in probs.items():\n",
        "\n",
        "    cdf={}\n",
        "    cum=0\n",
        "\n",
        "    for c,p in prob.items():\n",
        "\n",
        "      cdf[c]=(cum,cum+p)\n",
        "      cum += p\n",
        "\n",
        "    cdfs[state] = cdf\n",
        "\n",
        "  return cdfs\n",
        "\n",
        "def markov_arithmetic_encode(data,probs,states):\n",
        "\n",
        "  cdfs=get_cdfs(probs)\n",
        "  current='S1'\n",
        "\n",
        "  lo,hi=0,1.0\n",
        "\n",
        "  for c in data:\n",
        "\n",
        "    cdf=cdfs[current]\n",
        "\n",
        "    w=hi-lo\n",
        "    lo,hi=lo+cdf[c][0]*w,lo+cdf[c][1]*w\n",
        "\n",
        "    current=states[current][c]\n",
        "\n",
        "  return ((lo+hi)/2,cdfs,states,len(data))\n",
        "\n",
        "\n",
        "def markov_arithmetic_decode(encoded):\n",
        "\n",
        "  value,cdfs,states,length=encoded\n",
        "  decoded=\"\"\n",
        "\n",
        "  current='S1'\n",
        "  lo,hi=0,1.0\n",
        "\n",
        "  for __ in range(length):\n",
        "\n",
        "    cdf=cdfs[current]\n",
        "\n",
        "    w=hi-lo\n",
        "    v=(value-lo)/w\n",
        "\n",
        "    for c,(l,h) in cdf.items():\n",
        "\n",
        "      if l <= v < h:\n",
        "        decoded += c\n",
        "        lo,hi = lo + l*w,lo + h*w\n",
        "        current=states[current][c]\n",
        "        break\n",
        "\n",
        "  return decoded\n",
        "\n",
        "\n",
        "data=\"0101\"\n",
        "\n",
        "probs={\n",
        "    'S1':{'0':0.6,'1':0.4},\n",
        "    'S2':{'0':0.3,'1':0.7}\n",
        "}\n",
        "\n",
        "states={\n",
        "    'S1':{'0':'S1','1':'S2'},\n",
        "    'S2':{'0':'S1','1':'S2'}\n",
        "}\n",
        "\n",
        "cdfs=get_cdfs(probs)\n",
        "encoded=markov_arithmetic_encode(data,probs,states)\n",
        "print(encoded)\n",
        "decoded=markov_arithmetic_decode(encoded)\n",
        "print(decoded)"
      ]
    }
  ]
}