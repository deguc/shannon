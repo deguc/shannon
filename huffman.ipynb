{
  "nbformat": 4,
  "nbformat_minor": 0,
  "metadata": {
    "colab": {
      "provenance": [],
      "authorship_tag": "ABX9TyMt8z0EFgbVW98ybElPk9LT",
      "include_colab_link": true
    },
    "kernelspec": {
      "name": "python3",
      "display_name": "Python 3"
    },
    "language_info": {
      "name": "python"
    }
  },
  "cells": [
    {
      "cell_type": "markdown",
      "metadata": {
        "id": "view-in-github",
        "colab_type": "text"
      },
      "source": [
        "<a href=\"https://colab.research.google.com/github/deguc/shannon/blob/main/huffman.ipynb\" target=\"_parent\"><img src=\"https://colab.research.google.com/assets/colab-badge.svg\" alt=\"Open In Colab\"/></a>"
      ]
    },
    {
      "cell_type": "code",
      "execution_count": 4,
      "metadata": {
        "id": "L4PEFLiLkiCu",
        "colab": {
          "base_uri": "https://localhost:8080/"
        },
        "collapsed": true,
        "outputId": "d4fe6bf7-4815-4e69-e495-b52daaa3b3f0"
      },
      "outputs": [
        {
          "output_type": "stream",
          "name": "stdout",
          "text": [
            "data :  aaaaaaaabbccef\n",
            "frequency :  {'a': 8, 'b': 2, 'c': 2, 'e': 1, 'f': 1}\n",
            "huffman_tree :  [['a', '1'], ['b', '010'], ['c', '011'], ['e', '000'], ['f', '001']]\n",
            "encoded :  11111111010010011011000001\n",
            "decoded :  aaaaaaaabbccef\n"
          ]
        }
      ],
      "source": [
        "import heapq\n",
        "from collections import defaultdict\n",
        "\n",
        "\n",
        "def huffman_frequency(data):\n",
        "\n",
        "  result=defaultdict(int)\n",
        "\n",
        "  for char in data:\n",
        "    result[char] += 1\n",
        "\n",
        "  return dict(result)\n",
        "\n",
        "\n",
        "def huffman_tree(data,frequency):\n",
        "\n",
        "  heap=[[weight,[char,\"\"]] for char,weight in frequency.items()]\n",
        "  heapq.heapify(heap)\n",
        "\n",
        "  while(len(heap) > 1):\n",
        "    lo=heapq.heappop(heap)\n",
        "    hi=heapq.heappop(heap)\n",
        "\n",
        "    for pair in lo[1:]:\n",
        "      pair[1] = \"0\"+pair[1]\n",
        "    for pair in hi[1:]:\n",
        "      pair[1] = \"1\"+pair[1]\n",
        "\n",
        "    heapq.heappush(heap,[lo[0]+hi[0]]+lo[1:]+hi[1:])\n",
        "\n",
        "  return sorted(heapq.heappop(heap)[1:],key=lambda x:(len(x[1]),x[0]))\n",
        "\n",
        "\n",
        "def huffman_encode(data,tree):\n",
        "\n",
        "  dictionary={char:code for char,code in tree}\n",
        "  result=\"\"\n",
        "\n",
        "  for char in data:\n",
        "    result += dictionary[char]\n",
        "\n",
        "  return result\n",
        "\n",
        "\n",
        "def huffman_decode(data,tree):\n",
        "\n",
        "  dictionary={code:char for char,code in tree}\n",
        "  result=\"\"\n",
        "  code=\"\"\n",
        "\n",
        "  for bit in data:\n",
        "    code += bit\n",
        "    if code in dictionary:\n",
        "      result += dictionary[code]\n",
        "      code=\"\"\n",
        "\n",
        "  return result\n",
        "\n",
        "\n",
        "data=\"aaaaaaaabbccef\"\n",
        "\n",
        "frequency=huffman_frequency(data)\n",
        "tree=huffman_tree(data,frequency)\n",
        "encoded=huffman_encode(data,tree)\n",
        "decoded=huffman_decode(encoded,tree)\n",
        "\n",
        "print(\"data : \",data)\n",
        "print(\"frequency : \",frequency)\n",
        "print(\"huffman_tree : \",tree)\n",
        "print(\"encoded : \",encoded)\n",
        "print(\"decoded : \",decoded)"
      ]
    },
    {
      "cell_type": "code",
      "source": [],
      "metadata": {
        "id": "3HDZQAnmq7fS"
      },
      "execution_count": null,
      "outputs": []
    }
  ]
}