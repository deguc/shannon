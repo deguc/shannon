{
  "nbformat": 4,
  "nbformat_minor": 0,
  "metadata": {
    "colab": {
      "provenance": [],
      "authorship_tag": "ABX9TyOE0qIoP2oiDZwtEZ5Hgpwn",
      "include_colab_link": true
    },
    "kernelspec": {
      "name": "python3",
      "display_name": "Python 3"
    },
    "language_info": {
      "name": "python"
    }
  },
  "cells": [
    {
      "cell_type": "markdown",
      "metadata": {
        "id": "view-in-github",
        "colab_type": "text"
      },
      "source": [
        "<a href=\"https://colab.research.google.com/github/deguc/shannon/blob/main/huffman.ipynb\" target=\"_parent\"><img src=\"https://colab.research.google.com/assets/colab-badge.svg\" alt=\"Open In Colab\"/></a>"
      ]
    },
    {
      "cell_type": "code",
      "execution_count": null,
      "metadata": {
        "id": "L4PEFLiLkiCu",
        "colab": {
          "base_uri": "https://localhost:8080/"
        },
        "collapsed": true,
        "outputId": "d4fe6bf7-4815-4e69-e495-b52daaa3b3f0"
      },
      "outputs": [
        {
          "output_type": "stream",
          "name": "stdout",
          "text": [
            "data :  aaaaaaaabbccef\n",
            "frequency :  {'a': 8, 'b': 2, 'c': 2, 'e': 1, 'f': 1}\n",
            "huffman_tree :  [['a', '1'], ['b', '010'], ['c', '011'], ['e', '000'], ['f', '001']]\n",
            "encoded :  11111111010010011011000001\n",
            "decoded :  aaaaaaaabbccef\n"
          ]
        }
      ],
      "source": [
        "import heapq\n",
        "from collections import defaultdict\n",
        "\n",
        "\n",
        "def huffman_frequency(data):\n",
        "\n",
        "  result=defaultdict(int)\n",
        "\n",
        "  for char in data:\n",
        "    result[char] += 1\n",
        "\n",
        "  return dict(result)\n",
        "\n",
        "\n",
        "def huffman_tree(data,frequency):\n",
        "\n",
        "  heap=[[weight,[char,\"\"]] for char,weight in frequency.items()]\n",
        "  heapq.heapify(heap)\n",
        "\n",
        "  while(len(heap) > 1):\n",
        "    lo=heapq.heappop(heap)\n",
        "    hi=heapq.heappop(heap)\n",
        "\n",
        "    for pair in lo[1:]:\n",
        "      pair[1] = \"0\"+pair[1]\n",
        "    for pair in hi[1:]:\n",
        "      pair[1] = \"1\"+pair[1]\n",
        "\n",
        "    heapq.heappush(heap,[lo[0]+hi[0]]+lo[1:]+hi[1:])\n",
        "\n",
        "  return sorted(heapq.heappop(heap)[1:],key=lambda x:(len(x[1]),x[0]))\n",
        "\n",
        "\n",
        "def huffman_encode(data,tree):\n",
        "\n",
        "  dictionary={char:code for char,code in tree}\n",
        "  result=\"\"\n",
        "\n",
        "  for char in data:\n",
        "    result += dictionary[char]\n",
        "\n",
        "  return result\n",
        "\n",
        "\n",
        "def huffman_decode(data,tree):\n",
        "\n",
        "  dictionary={code:char for char,code in tree}\n",
        "  result=\"\"\n",
        "  code=\"\"\n",
        "\n",
        "  for bit in data:\n",
        "    code += bit\n",
        "    if code in dictionary:\n",
        "      result += dictionary[code]\n",
        "      code=\"\"\n",
        "\n",
        "  return result\n",
        "\n",
        "\n",
        "data=\"aaaaaaaabbccef\"\n",
        "\n",
        "frequency=huffman_frequency(data)\n",
        "tree=huffman_tree(data,frequency)\n",
        "encoded=huffman_encode(data,tree)\n",
        "decoded=huffman_decode(encoded,tree)\n",
        "\n",
        "print(\"data : \",data)\n",
        "print(\"frequency : \",frequency)\n",
        "print(\"huffman_tree : \",tree)\n",
        "print(\"encoded : \",encoded)\n",
        "print(\"decoded : \",decoded)"
      ]
    },
    {
      "cell_type": "code",
      "source": [
        "from heapq import heapify,heappop,heappush\n",
        "from collections import defaultdict\n",
        "\n",
        "def huffman_encode(seq):\n",
        "  heap=[[seq.count(c),[c,\"\"]] for c in set(seq)]\n",
        "  heapify(heap)\n",
        "\n",
        "  while(len(heap) > 1):\n",
        "    io=heappop(heap)\n",
        "    hi=heappop(heap)\n",
        "\n",
        "    for pair in io[1:]:\n",
        "      pair[1] = '0' + pair[1]\n",
        "    for pair in hi[1:]:\n",
        "      pair[1] = '1' + pair[1]\n",
        "\n",
        "    heappush(heap,[io[0]+hi[0]]+io[1:]+hi[1:])\n",
        "\n",
        "  dic={k:v for k,v in heap[0][1:]}\n",
        "\n",
        "  return [[dic[c] for c in seq],dic]\n",
        "\n",
        "\n",
        "def huffman_decode(encoded):\n",
        "  return [{k:v for v,k in encoded[1].items()}[c] for c in encoded[0]]\n",
        "\n",
        "\n",
        "data=\"aaaaaabbbbccd\"\n",
        "seq=[c for c in data]\n",
        "\n",
        "encoded=huffman_encode(seq)\n",
        "deocoded=huffman_decode(encoded)\n",
        "original=\"\".join(deocoded)\n",
        "print(original)\n"
      ],
      "metadata": {
        "id": "3HDZQAnmq7fS",
        "colab": {
          "base_uri": "https://localhost:8080/"
        },
        "outputId": "35a685ea-e5c8-47c1-f19e-ebbccda9dc6a",
        "collapsed": true
      },
      "execution_count": null,
      "outputs": [
        {
          "output_type": "stream",
          "name": "stdout",
          "text": [
            "aaaaaabbbbccd\n"
          ]
        }
      ]
    },
    {
      "cell_type": "code",
      "source": [
        "from collections import Counter\n",
        "from heapq import heapify,heappop,heappush\n",
        "\n",
        "def huffman_encode(seq):\n",
        "  freq=Counter(seq)\n",
        "  heap=[[w,[c,\"\"]] for c,w in freq.items()]\n",
        "  heapify(heap)\n",
        "\n",
        "  while(len(heap)>1):\n",
        "    lo=heappop(heap)\n",
        "    hi=heappop(heap)\n",
        "\n",
        "    for pair in lo[1:]:\n",
        "      pair[1] = \"0\" + pair[1]\n",
        "    for pair in hi[1:]:\n",
        "      pair[1] = \"1\" + pair[1]\n",
        "\n",
        "    heappush(heap,[lo[0]+hi[0]]+lo[1:]+hi[1:])\n",
        "\n",
        "  dic={k:v for k,v in heappop(heap)[1:]}\n",
        "\n",
        "  encoded=\"\"\n",
        "  for c in seq:\n",
        "    encoded += dic[c]\n",
        "\n",
        "  return (encoded,dic)\n",
        "\n",
        "\n",
        "def huffman_decoded(data):\n",
        "  dic={k:v for v,k in data[1].items()}\n",
        "  decoded=\"\"\n",
        "  code=\"\"\n",
        "\n",
        "  for c in data[0]:\n",
        "    code += c\n",
        "    if code in dic:\n",
        "      decoded += dic[code]\n",
        "      code=\"\"\n",
        "\n",
        "  return decoded\n",
        "\n",
        "seq=\"abacaba\"\n",
        "\n",
        "data=huffman_encode(seq)\n",
        "print(data)\n",
        "print(len(data[0]))\n",
        "decoded=huffman_decoded(data)\n",
        "print(decoded)\n"
      ],
      "metadata": {
        "colab": {
          "base_uri": "https://localhost:8080/"
        },
        "id": "-fMHmN_Ae_d_",
        "outputId": "046c7da1-ed1d-4c2d-e350-fd9e399c1fdf"
      },
      "execution_count": 16,
      "outputs": [
        {
          "output_type": "stream",
          "name": "stdout",
          "text": [
            "('1011001011', {'c': '00', 'b': '01', 'a': '1'})\n",
            "10\n",
            "abacaba\n"
          ]
        }
      ]
    }
  ]
}