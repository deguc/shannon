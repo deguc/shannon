{
  "nbformat": 4,
  "nbformat_minor": 0,
  "metadata": {
    "colab": {
      "provenance": [],
      "authorship_tag": "ABX9TyMlMFWoHDfEU5xGU6SURG5v",
      "include_colab_link": true
    },
    "kernelspec": {
      "name": "python3",
      "display_name": "Python 3"
    },
    "language_info": {
      "name": "python"
    }
  },
  "cells": [
    {
      "cell_type": "markdown",
      "metadata": {
        "id": "view-in-github",
        "colab_type": "text"
      },
      "source": [
        "<a href=\"https://colab.research.google.com/github/deguc/shannon/blob/main/RleHuffman.ipynb\" target=\"_parent\"><img src=\"https://colab.research.google.com/assets/colab-badge.svg\" alt=\"Open In Colab\"/></a>"
      ]
    },
    {
      "cell_type": "code",
      "execution_count": 109,
      "metadata": {
        "colab": {
          "base_uri": "https://localhost:8080/"
        },
        "id": "1XpAIgsfnsVJ",
        "outputId": "6e8b5800-fa36-4f43-8767-c134514788fa"
      },
      "outputs": [
        {
          "output_type": "stream",
          "name": "stdout",
          "text": [
            "000000000000000000000000000000000100000000000000000000000000000000000000000000001010000000000000000000000000000000000000000000000000000000000000000000000000100000000000000000000000\n",
            "000111010111\n",
            "000000000000000000000000000000000100000000000000000000000000000000000000000000001010000000000000000000000000000000000000000000000000000000000000000000000000100000000000000000000000\n"
          ]
        }
      ],
      "source": [
        "import random\n",
        "from heapq import heapify,heappop,heappush\n",
        "from collections import Counter\n",
        "\n",
        "def random_data(N=10,p0=0.9):\n",
        "\n",
        "  r=['0' if random.random() < p0 else '1' for _ in range(N)]\n",
        "\n",
        "  return ''.join(r)\n",
        "\n",
        "def rle_huffman_encode(data):\n",
        "\n",
        "  rle_data=[]\n",
        "\n",
        "  n=0\n",
        "  for c in data:\n",
        "\n",
        "    if c == '1':\n",
        "      rle_data.append(n)\n",
        "      n=0\n",
        "    else:\n",
        "      n += 1\n",
        "  rle_data.append(n)\n",
        "\n",
        "  heap=[[w,[c,\"\"]] for c,w in Counter(rle_data).items()]\n",
        "  heapify(heap)\n",
        "\n",
        "\n",
        "  while len(heap) > 1:\n",
        "\n",
        "    lo=heappop(heap)\n",
        "    hi=heappop(heap)\n",
        "\n",
        "    for pair in lo[1:]:\n",
        "      pair[1] = '0' + pair[1]\n",
        "    for pair in hi[1:]:\n",
        "      pair[1] = '1' + pair[1]\n",
        "\n",
        "    heappush(heap,[lo[0]+hi[0]]+lo[1:]+hi[1:])\n",
        "\n",
        "  dic={k:v for k,v in heappop(heap)[1:]}\n",
        "\n",
        "  encoded=[]\n",
        "\n",
        "  for c in rle_data:\n",
        "    encoded.append(dic[c])\n",
        "\n",
        "  print(''.join(encoded))\n",
        "\n",
        "  return (encoded,dic)\n",
        "\n",
        "def rle_huffman_decode(encoded):\n",
        "\n",
        "  dic={k:v for v,k in encoded[1].items()}\n",
        "  decoded=\"\"\n",
        "\n",
        "\n",
        "  for i,code in enumerate(encoded[0]):\n",
        "    n=dic[code]\n",
        "    c0='0'*n\n",
        "    c1='1' if i+1 < len(encoded[0]) else ''\n",
        "\n",
        "    decoded += c0+c1\n",
        "\n",
        "  return decoded\n",
        "\n",
        "\n",
        "\n",
        "#data=\"1000010010000100100100001010000\"\n",
        "data=random_data(N=180,p0=0.98)\n",
        "print(data)\n",
        "encoded=rle_huffman_encode(data)\n",
        "decoded=rle_huffman_decode(encoded)\n",
        "print(decoded)"
      ]
    }
  ]
}