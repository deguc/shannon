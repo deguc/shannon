{
  "nbformat": 4,
  "nbformat_minor": 0,
  "metadata": {
    "colab": {
      "provenance": [],
      "authorship_tag": "ABX9TyMpSeaGTSpZghXTgLVnCfsk",
      "include_colab_link": true
    },
    "kernelspec": {
      "name": "python3",
      "display_name": "Python 3"
    },
    "language_info": {
      "name": "python"
    }
  },
  "cells": [
    {
      "cell_type": "markdown",
      "metadata": {
        "id": "view-in-github",
        "colab_type": "text"
      },
      "source": [
        "<a href=\"https://colab.research.google.com/github/deguc/shannon/blob/main/tools.ipynb\" target=\"_parent\"><img src=\"https://colab.research.google.com/assets/colab-badge.svg\" alt=\"Open In Colab\"/></a>"
      ]
    },
    {
      "cell_type": "code",
      "execution_count": 44,
      "metadata": {
        "colab": {
          "base_uri": "https://localhost:8080/"
        },
        "id": "V_JIgWJ-TKIM",
        "outputId": "86f90cfa-344e-4053-a026-b80c6ec16f34"
      },
      "outputs": [
        {
          "output_type": "stream",
          "name": "stdout",
          "text": [
            "{'a': 0.5714285714285714, 'b': 0.2857142857142857, 'c': 0.14285714285714285}\n",
            "[0.57142857 0.28571429 0.14285714]\n",
            "1.3787834934861753\n",
            "01100001011000100110000101100011011000010110001001100001\n"
          ]
        }
      ],
      "source": [
        "import numpy as np\n",
        "from collections import Counter\n",
        "\n",
        "def comp_prob(data):\n",
        "\n",
        "  freq=Counter(data)\n",
        "  total=len(data)\n",
        "  prob={c:n/total for c,n in freq.items()}\n",
        "\n",
        "  return prob\n",
        "\n",
        "\n",
        "def cal_entropy(p):\n",
        "  return np.sum(-p * np.log2(p))\n",
        "\n",
        "\n",
        "def comp_entropy(data):\n",
        "  prob=np.array([p for p in comp_prob(data).values()])\n",
        "  print(prob)\n",
        "  return cal_entropy(prob)\n",
        "\n",
        "def str_to_bin(data):\n",
        "  b=\"\"\n",
        "\n",
        "  for c in data:\n",
        "    b += bin(ord(c))\n",
        "\n",
        "  return b.replace(\"b\",\"\")\n",
        "\n",
        "\n",
        "data=\"abacaba\"\n",
        "prob=comp_prob(data)\n",
        "print(prob)\n",
        "\n",
        "entropy=comp_entropy(data)\n",
        "print(entropy)\n",
        "\n",
        "b=str_to_bin(data)\n",
        "print(b)"
      ]
    },
    {
      "cell_type": "code",
      "source": [],
      "metadata": {
        "id": "lCrH96P7X1xK"
      },
      "execution_count": null,
      "outputs": []
    }
  ]
}