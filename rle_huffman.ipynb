{
  "nbformat": 4,
  "nbformat_minor": 0,
  "metadata": {
    "colab": {
      "provenance": [],
      "authorship_tag": "ABX9TyO5D4eCemVMb5FGaSdv79BR",
      "include_colab_link": true
    },
    "kernelspec": {
      "name": "python3",
      "display_name": "Python 3"
    },
    "language_info": {
      "name": "python"
    }
  },
  "cells": [
    {
      "cell_type": "markdown",
      "metadata": {
        "id": "view-in-github",
        "colab_type": "text"
      },
      "source": [
        "<a href=\"https://colab.research.google.com/github/deguc/shannon/blob/main/rle_huffman.ipynb\" target=\"_parent\"><img src=\"https://colab.research.google.com/assets/colab-badge.svg\" alt=\"Open In Colab\"/></a>"
      ]
    },
    {
      "cell_type": "code",
      "source": [
        "from heapq import heapify,heappop,heappush\n",
        "\n",
        "def huffman(seq,freq):\n",
        "  heap=[[w,[c,\"\"]] for c,w in freq.items()]\n",
        "  heapify(heap)\n",
        "\n",
        "  while(len(heap) > 1):\n",
        "    lo=heappop(heap)\n",
        "    hi=heappop(heap)\n",
        "\n",
        "    for pair in lo[1:]:\n",
        "      pair[1] = '0' + pair[1]\n",
        "    for pair in hi[1:]:\n",
        "      pair[1] = '1' + pair[1]\n",
        "\n",
        "    heappush(heap,[lo[0]+hi[0]]+lo[1:]+hi[1:])\n",
        "\n",
        "  dic={char:code for char,code in heap[0][1:]}\n",
        "\n",
        "  return [[dic[c] for c in seq],dic]\n",
        "\n",
        "def rle_huffman_encode(seq):\n",
        "  runs=[]\n",
        "  values=[]\n",
        "\n",
        "  n=0\n",
        "  for c in seq:\n",
        "    if c == 0:\n",
        "      n += 1\n",
        "    else:\n",
        "      runs.append(n)\n",
        "      values.append(c)\n",
        "      n=0\n",
        "\n",
        "  runs.append(n)\n",
        "\n",
        "  frequency=lambda x:{c:x.count(c) for c in set(x)}\n",
        "\n",
        "  freq=[frequency(runs),frequency(values)]\n",
        "\n",
        "  return [huffman(s,q) for s,q in zip([runs,values],freq)]\n",
        "\n",
        "\n",
        "\n",
        "def rle_huffman_decode(encoded):\n",
        "\n",
        "  huffman_decode=lambda x:[{code:char for char,code in x[1].items()}[c] for c in x[0]]\n",
        "\n",
        "  data=[huffman_decode(x) for x in encoded]\n",
        "\n",
        "  decoded=[]\n",
        "\n",
        "  i=0\n",
        "  for n in data[0]:\n",
        "\n",
        "    decoded.extend([0]*n)\n",
        "    if i<len(data[1]):\n",
        "      decoded.append(data[1][i])\n",
        "\n",
        "    i += 1\n",
        "\n",
        "  return decoded\n",
        "\n",
        "\n",
        "data=\"10001000100200020001100100030100021\"\n",
        "seq=[int(c) for c in data]\n",
        "encoded=rle_huffman_encode(seq)\n",
        "decoded=rle_huffman_decode(encoded)\n",
        "original=\"\".join([str(n) for n in decoded])\n",
        "print(original)"
      ],
      "metadata": {
        "colab": {
          "base_uri": "https://localhost:8080/"
        },
        "id": "m2PvCL_p9pdC",
        "outputId": "6116d369-06d5-4e8a-98ec-efa99e3ea6e6"
      },
      "execution_count": 35,
      "outputs": [
        {
          "output_type": "stream",
          "name": "stdout",
          "text": [
            "10001000100200020001100100030100021\n"
          ]
        }
      ]
    }
  ]
}