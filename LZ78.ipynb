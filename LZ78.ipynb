{
  "nbformat": 4,
  "nbformat_minor": 0,
  "metadata": {
    "colab": {
      "provenance": [],
      "authorship_tag": "ABX9TyN9nXGlxMzCXf1Ug/WA0QHd",
      "include_colab_link": true
    },
    "kernelspec": {
      "name": "python3",
      "display_name": "Python 3"
    },
    "language_info": {
      "name": "python"
    }
  },
  "cells": [
    {
      "cell_type": "markdown",
      "metadata": {
        "id": "view-in-github",
        "colab_type": "text"
      },
      "source": [
        "<a href=\"https://colab.research.google.com/github/deguc/shannon/blob/main/LZ78.ipynb\" target=\"_parent\"><img src=\"https://colab.research.google.com/assets/colab-badge.svg\" alt=\"Open In Colab\"/></a>"
      ]
    },
    {
      "cell_type": "code",
      "execution_count": 2,
      "metadata": {
        "colab": {
          "base_uri": "https://localhost:8080/"
        },
        "id": "lVVPpCnCvtVk",
        "outputId": "d8bc7d51-0c36-46f1-b8c2-8a123827f639"
      },
      "outputs": [
        {
          "output_type": "stream",
          "name": "stdout",
          "text": [
            "{'a': 1, 'b': 2, 'ab': 3, 'aba': 4}\n",
            "[(0, 'a'), (0, 'b'), (1, 'b'), (3, 'a'), (2, '')]\n",
            "abababab\n"
          ]
        }
      ],
      "source": [
        "def lz78_encode(seq):\n",
        "  encoded = []\n",
        "  cur = \"\"\n",
        "  dic={}\n",
        "\n",
        "  for c in seq:\n",
        "    word = cur + c\n",
        "\n",
        "    if word in dic:\n",
        "      cur=word\n",
        "    else:\n",
        "      if cur == \"\":\n",
        "        encoded.append((0,c))\n",
        "      else:\n",
        "        encoded.append((dic[cur],c))\n",
        "\n",
        "      dic[word]=len(dic)+1\n",
        "      cur=\"\"\n",
        "\n",
        "  if cur !=\"\":\n",
        "    encoded.append((dic[word],\"\"))\n",
        "  print(dic)\n",
        "  return encoded\n",
        "\n",
        "def lz78_decode(encoded):\n",
        "  decoded=\"\"\n",
        "  dic={0:''}\n",
        "\n",
        "  for i,c in encoded:\n",
        "    entry = dic[i] + c\n",
        "    decoded += entry\n",
        "    dic[len(dic)]=entry\n",
        "\n",
        "  return decoded\n",
        "\n",
        "\n",
        "seq=\"abababab\"\n",
        "\n",
        "\n",
        "encoded=lz78_encode(seq)\n",
        "print(encoded)\n",
        "decoded=lz78_decode(encoded)\n",
        "print(decoded)\n",
        "\n"
      ]
    }
  ]
}